{
 "cells": [
  {
   "cell_type": "markdown",
   "id": "a784cd0f",
   "metadata": {},
   "source": [
    "# これは見出しです\n",
    "\n",
    "これは段落です\n",
    "\n",
    "- 箇条書きも\n",
    "- このように表現できます\n",
    "\n",
    "テーブルも記述できますね\n",
    "\n",
    "Package | version\n",
    "--------| --------\n",
    "pandas | 0.19.2\n",
    "matplotlib | 2.0.0"
   ]
  },
  {
   "cell_type": "markdown",
   "id": "aa6692ab",
   "metadata": {},
   "source": [
    "## 標準ライブラリの利用方法\n",
    "\n",
    "この Notebook では、Python の **標準ライブラリ** の利用方法を解説します。\n",
    "\n",
    "標準ライブラリを利用するには、**import** 文を記述します。"
   ]
  },
  {
   "cell_type": "code",
   "execution_count": 14,
   "id": "87b6edb6",
   "metadata": {},
   "outputs": [],
   "source": [
    "import math"
   ]
  },
  {
   "cell_type": "markdown",
   "id": "a7f68358",
   "metadata": {},
   "source": [
    "import した mathモジュールを利用します。"
   ]
  },
  {
   "cell_type": "code",
   "execution_count": 15,
   "id": "9addd63b",
   "metadata": {},
   "outputs": [
    {
     "name": "stdout",
     "output_type": "stream",
     "text": [
      "2.0\n"
     ]
    }
   ],
   "source": [
    "print(math.sqrt(4))"
   ]
  },
  {
   "cell_type": "markdown",
   "id": "5b305789",
   "metadata": {},
   "source": [
    "## 数式の表示\n",
    "\n",
    "このコードセルでは、次のように数式を表現できます。\n",
    "\n",
    "\n",
    "$$\\sqrt{2x-1}+(3+x)^3$$\n",
    "\n",
    "$$E = mc^2$$\n",
    "\n",
    "インラインでも右記のように$\\sqrt{a^2 + b^2}$ 記述できます。"
   ]
  },
  {
   "cell_type": "code",
   "execution_count": 16,
   "id": "20d490f5",
   "metadata": {},
   "outputs": [
    {
     "name": "stdout",
     "output_type": "stream",
     "text": [
      "CPU times: total: 0 ns\n",
      "Wall time: 1.01 ms\n"
     ]
    },
    {
     "data": {
      "text/plain": [
       "49995000"
      ]
     },
     "execution_count": 16,
     "metadata": {},
     "output_type": "execute_result"
    }
   ],
   "source": [
    "%time sum(range(10000))"
   ]
  },
  {
   "cell_type": "code",
   "execution_count": 17,
   "id": "7529aa9b",
   "metadata": {},
   "outputs": [
    {
     "name": "stdout",
     "output_type": "stream",
     "text": [
      "436 µs ± 48 µs per loop (mean ± std. dev. of 5 runs, 2,000 loops each)\n"
     ]
    }
   ],
   "source": [
    "%timeit -n 2000 -r 5 sum(range(10000))\n",
    "\n",
    "for i in range(1000):\n",
    "    i*2"
   ]
  },
  {
   "cell_type": "code",
   "execution_count": 18,
   "id": "24d39956",
   "metadata": {},
   "outputs": [
    {
     "data": {
      "application/javascript": [
       "IPython.notebook.set_autosave_interval(60000)"
      ]
     },
     "metadata": {},
     "output_type": "display_data"
    },
    {
     "name": "stdout",
     "output_type": "stream",
     "text": [
      "Autosaving every 60 seconds\n"
     ]
    }
   ],
   "source": [
    "%autosave 60"
   ]
  },
  {
   "cell_type": "code",
   "execution_count": 19,
   "id": "9e55db63",
   "metadata": {},
   "outputs": [
    {
     "data": {
      "application/javascript": [
       "IPython.notebook.set_autosave_interval(120000)"
      ]
     },
     "metadata": {},
     "output_type": "display_data"
    },
    {
     "name": "stdout",
     "output_type": "stream",
     "text": [
      "Autosaving every 120 seconds\n"
     ]
    }
   ],
   "source": [
    "%autosave 120"
   ]
  },
  {
   "cell_type": "code",
   "execution_count": 27,
   "id": "57775ebb",
   "metadata": {},
   "outputs": [],
   "source": [
    "%matplotlib inline"
   ]
  },
  {
   "cell_type": "code",
   "execution_count": 28,
   "id": "5e9f41c6",
   "metadata": {},
   "outputs": [],
   "source": [
    "import numpy as np\n",
    "import matplotlib.pyplot as plt\n",
    "\n",
    "x = np.arange(0, 12, 0.2)\n",
    "y = np.sin(x)"
   ]
  },
  {
   "cell_type": "code",
   "execution_count": 29,
   "id": "3d1fddb0",
   "metadata": {},
   "outputs": [
    {
     "data": {
      "text/plain": [
       "<function matplotlib.pyplot.show(close=None, block=None)>"
      ]
     },
     "execution_count": 29,
     "metadata": {},
     "output_type": "execute_result"
    },
    {
     "data": {
      "image/png": "[encoded data removed]",
      "text/plain": [
       "<Figure size 432x288 with 1 Axes>"
      ]
     },
     "metadata": {
      "needs_background": "light"
     },
     "output_type": "display_data"
    }
   ],
   "source": [
    "fig = plt.figure()\n",
    "ax = fig.add_subplot(111)\n",
    "\n",
    "ax.plot(x, y)\n",
    "plt.show"
   ]
  },
  {
   "cell_type": "code",
   "execution_count": null,
   "id": "14eca844",
   "metadata": {},
   "outputs": [],
   "source": []
  }
 ],
 "metadata": {
  "celltoolbar": "Tags",
  "kernelspec": {
   "display_name": "Python 3 (ipykernel)",
   "language": "python",
   "name": "python3"
  },
  "language_info": {
   "codemirror_mode": {
    "name": "ipython",
    "version": 3
   },
   "file_extension": ".py",
   "mimetype": "text/x-python",
   "name": "python",
   "nbconvert_exporter": "python",
   "pygments_lexer": "ipython3",
   "version": "3.9.12"
  }
 },
 "nbformat": 4,
 "nbformat_minor": 5
}
